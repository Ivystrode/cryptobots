{
 "metadata": {
  "language_info": {
   "codemirror_mode": {
    "name": "ipython",
    "version": 3
   },
   "file_extension": ".py",
   "mimetype": "text/x-python",
   "name": "python",
   "nbconvert_exporter": "python",
   "pygments_lexer": "ipython3",
   "version": "3.8.5"
  },
  "orig_nbformat": 2,
  "kernelspec": {
   "name": "python3",
   "display_name": "Python 3.8.5 64-bit",
   "metadata": {
    "interpreter": {
     "hash": "df0893f56f349688326838aaeea0de204df53a132722cbd565e54b24a8fec5f6"
    }
   }
  }
 },
 "nbformat": 4,
 "nbformat_minor": 2,
 "cells": [
  {
   "cell_type": "code",
   "execution_count": null,
   "metadata": {},
   "outputs": [],
   "source": [
    "import pandas as pd\n",
    "import sqlalchemy\n",
    "from binance.client import Client \n",
    "from binance import BinanceSocketManager\n",
    "import keys"
   ]
  },
  {
   "cell_type": "code",
   "execution_count": null,
   "metadata": {},
   "outputs": [],
   "source": [
    "# USING TESTNET FOR NOT TRADING REAL MONEY!!\n",
    "client = Client(keys.TESTNET_API_KEY, keys.TESTNET_SECRET_KEY)\n",
    "\n",
    "# ONLY NECESSARY FOR USING THE TESTNET\n",
    "client.API_URL = 'https://testnet.binance.vision/api'\n",
    "\n",
    "bsm = BinanceSocketManager(client)\n",
    "engine = sqlalchemy.create_engine('sqlite:///BTCUSDTstream.db')"
   ]
  },
  {
   "cell_type": "code",
   "execution_count": null,
   "metadata": {},
   "outputs": [],
   "source": [
    "df = pd.read_sql('BTCUSDT', engine)\n",
    "print(df)"
   ]
  },
  {
   "cell_type": "code",
   "execution_count": null,
   "metadata": {},
   "outputs": [],
   "source": [
    "df.price.plot()\n",
    "# in normal python script this is done slightly differently - need to import matplotlib.pyplot as plt and do plt.show()"
   ]
  },
  {
   "cell_type": "code",
   "execution_count": null,
   "metadata": {},
   "outputs": [],
   "source": [
    "print(client.get_asset_balance('BTC'))"
   ]
  },
  {
   "cell_type": "code",
   "execution_count": null,
   "metadata": {},
   "outputs": [],
   "source": [
    "# Trend following - if crypto rising by x% buy, sell at +/- 0.15%\n",
    "def strategy(entry, lookback, qty, open_position=False):\n",
    "    while True:\n",
    "        lookbackperiod = df.iloc[-lookback:] # filter the df for the last defined timestamp\n",
    "        cumulative_return = (lookbackperiod.price.pct_change() + 1).cumprod() - 1\n",
    "        if not open_position:\n",
    "            if cumulative_return[cumulative_return.last_valid_index()] > entry:\n",
    "                order = client.create_order(symbol='BTCUSDT',\n",
    "                                            SIDE='BUY',\n",
    "                                            type='MARKET',\n",
    "                                            quantity=qty)\n",
    "                print(order)\n",
    "                open_position=True\n",
    "                break # DON'T OPEN ANY MORE POSITIONS ONCE YOU HAVE BOUGHT\n",
    "            \n",
    "    if open_position:\n",
    "        while True:\n",
    "            df = pd.read_sql('BTCUSDT', engine)\n",
    "            sincebuy = df.loc[df.time > pd.to_datetime(order['transactTime'],\n",
    "                                                       unit='ms')]\n",
    "            if len(sincebuy) > 1:\n",
    "                sincebuyreturn = (sincebuy.price.pct_chance() + 1).cumprod() - 1\n",
    "                last_entry = sincebuyreturn[sincebuyreturn.last_valid_index()]\n",
    "                if last_entry > 0.0015 or last_entry < -0.0015:\n",
    "                    order = client.create_order(symbol='BTCUSDT',\n",
    "                                            SIDE='SELL',\n",
    "                                            type='MARKET',\n",
    "                                            quantity=qty)\n",
    "                    print(order)\n",
    "                    break # MAKE SURE TO BREAK OR YOU WILL SELL AGAIN"
   ]
  }
 ]
}